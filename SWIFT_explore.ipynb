{
 "cells": [
  {
   "cell_type": "markdown",
   "metadata": {},
   "source": [
    "# Packages"
   ]
  },
  {
   "cell_type": "code",
   "execution_count": 1,
   "metadata": {},
   "outputs": [],
   "source": [
    "import os\n",
    "os.environ[\"KERAS_BACKEND\"] = \"tensorflow\"\n",
    "import numpy as np\n",
    "import seaborn as sns\n",
    "import pandas as pd\n",
    "import matplotlib.pyplot as plt\n",
    "import tensorflow as tf\n",
    "import bayesflow as bf\n",
    "import keras"
   ]
  },
  {
   "cell_type": "markdown",
   "metadata": {},
   "source": [
    "# Explore Data"
   ]
  },
  {
   "cell_type": "code",
   "execution_count": 2,
   "metadata": {},
   "outputs": [],
   "source": [
    "# Load the data\n",
    "df=pd.read_csv(\"fixseqin_PB2expVP10.dat\",\n",
    "     delimiter=\"\\t\",\n",
    "     names=[\"sentID\", \"wordID\", \"duration\"],\n",
    "     usecols=[0, 1, 3])"
   ]
  },
  {
   "cell_type": "code",
   "execution_count": 3,
   "metadata": {},
   "outputs": [
    {
     "data": {
      "application/vnd.microsoft.datawrangler.viewer.v0+json": {
       "columns": [
        {
         "name": "index",
         "rawType": "int64",
         "type": "integer"
        },
        {
         "name": "sentID",
         "rawType": "int64",
         "type": "integer"
        },
        {
         "name": "wordID",
         "rawType": "int64",
         "type": "integer"
        },
        {
         "name": "duration",
         "rawType": "int64",
         "type": "integer"
        }
       ],
       "conversionMethod": "pd.DataFrame",
       "ref": "d7494259-c7fa-44a1-b3a8-b554383d619f",
       "rows": [
        [
         "0",
         "1",
         "1",
         "183"
        ],
        [
         "1",
         "1",
         "3",
         "165"
        ],
        [
         "2",
         "1",
         "3",
         "115"
        ],
        [
         "3",
         "1",
         "4",
         "210"
        ],
        [
         "4",
         "1",
         "6",
         "266"
        ]
       ],
       "shape": {
        "columns": 3,
        "rows": 5
       }
      },
      "text/html": [
       "<div>\n",
       "<style scoped>\n",
       "    .dataframe tbody tr th:only-of-type {\n",
       "        vertical-align: middle;\n",
       "    }\n",
       "\n",
       "    .dataframe tbody tr th {\n",
       "        vertical-align: top;\n",
       "    }\n",
       "\n",
       "    .dataframe thead th {\n",
       "        text-align: right;\n",
       "    }\n",
       "</style>\n",
       "<table border=\"1\" class=\"dataframe\">\n",
       "  <thead>\n",
       "    <tr style=\"text-align: right;\">\n",
       "      <th></th>\n",
       "      <th>sentID</th>\n",
       "      <th>wordID</th>\n",
       "      <th>duration</th>\n",
       "    </tr>\n",
       "  </thead>\n",
       "  <tbody>\n",
       "    <tr>\n",
       "      <th>0</th>\n",
       "      <td>1</td>\n",
       "      <td>1</td>\n",
       "      <td>183</td>\n",
       "    </tr>\n",
       "    <tr>\n",
       "      <th>1</th>\n",
       "      <td>1</td>\n",
       "      <td>3</td>\n",
       "      <td>165</td>\n",
       "    </tr>\n",
       "    <tr>\n",
       "      <th>2</th>\n",
       "      <td>1</td>\n",
       "      <td>3</td>\n",
       "      <td>115</td>\n",
       "    </tr>\n",
       "    <tr>\n",
       "      <th>3</th>\n",
       "      <td>1</td>\n",
       "      <td>4</td>\n",
       "      <td>210</td>\n",
       "    </tr>\n",
       "    <tr>\n",
       "      <th>4</th>\n",
       "      <td>1</td>\n",
       "      <td>6</td>\n",
       "      <td>266</td>\n",
       "    </tr>\n",
       "  </tbody>\n",
       "</table>\n",
       "</div>"
      ],
      "text/plain": [
       "   sentID  wordID  duration\n",
       "0       1       1       183\n",
       "1       1       3       165\n",
       "2       1       3       115\n",
       "3       1       4       210\n",
       "4       1       6       266"
      ]
     },
     "execution_count": 3,
     "metadata": {},
     "output_type": "execute_result"
    }
   ],
   "source": [
    "df.head()"
   ]
  },
  {
   "cell_type": "code",
   "execution_count": 4,
   "metadata": {},
   "outputs": [
    {
     "data": {
      "application/vnd.microsoft.datawrangler.viewer.v0+json": {
       "columns": [
        {
         "name": "index",
         "rawType": "int64",
         "type": "integer"
        },
        {
         "name": "sentID",
         "rawType": "int64",
         "type": "integer"
        },
        {
         "name": "nw",
         "rawType": "int64",
         "type": "integer"
        },
        {
         "name": "wordID",
         "rawType": "int64",
         "type": "integer"
        },
        {
         "name": "length",
         "rawType": "int64",
         "type": "integer"
        },
        {
         "name": "freq",
         "rawType": "float64",
         "type": "float"
        },
        {
         "name": "code",
         "rawType": "int64",
         "type": "integer"
        }
       ],
       "conversionMethod": "pd.DataFrame",
       "ref": "f300f213-280d-477c-9e66-b21e78498ec0",
       "rows": [
        [
         "0",
         "1",
         "11",
         "1",
         "3",
         "112.096683",
         "9"
        ],
        [
         "1",
         "1",
         "11",
         "2",
         "3",
         "532.671797",
         "9"
        ],
        [
         "2",
         "1",
         "11",
         "3",
         "10",
         "3.237331",
         "9"
        ],
        [
         "3",
         "1",
         "11",
         "4",
         "4",
         "6557.46794",
         "9"
        ],
        [
         "4",
         "1",
         "11",
         "5",
         "3",
         "20527.116504",
         "9"
        ]
       ],
       "shape": {
        "columns": 6,
        "rows": 5
       }
      },
      "text/html": [
       "<div>\n",
       "<style scoped>\n",
       "    .dataframe tbody tr th:only-of-type {\n",
       "        vertical-align: middle;\n",
       "    }\n",
       "\n",
       "    .dataframe tbody tr th {\n",
       "        vertical-align: top;\n",
       "    }\n",
       "\n",
       "    .dataframe thead th {\n",
       "        text-align: right;\n",
       "    }\n",
       "</style>\n",
       "<table border=\"1\" class=\"dataframe\">\n",
       "  <thead>\n",
       "    <tr style=\"text-align: right;\">\n",
       "      <th></th>\n",
       "      <th>sentID</th>\n",
       "      <th>nw</th>\n",
       "      <th>wordID</th>\n",
       "      <th>length</th>\n",
       "      <th>freq</th>\n",
       "      <th>code</th>\n",
       "    </tr>\n",
       "  </thead>\n",
       "  <tbody>\n",
       "    <tr>\n",
       "      <th>0</th>\n",
       "      <td>1</td>\n",
       "      <td>11</td>\n",
       "      <td>1</td>\n",
       "      <td>3</td>\n",
       "      <td>112.096683</td>\n",
       "      <td>9</td>\n",
       "    </tr>\n",
       "    <tr>\n",
       "      <th>1</th>\n",
       "      <td>1</td>\n",
       "      <td>11</td>\n",
       "      <td>2</td>\n",
       "      <td>3</td>\n",
       "      <td>532.671797</td>\n",
       "      <td>9</td>\n",
       "    </tr>\n",
       "    <tr>\n",
       "      <th>2</th>\n",
       "      <td>1</td>\n",
       "      <td>11</td>\n",
       "      <td>3</td>\n",
       "      <td>10</td>\n",
       "      <td>3.237331</td>\n",
       "      <td>9</td>\n",
       "    </tr>\n",
       "    <tr>\n",
       "      <th>3</th>\n",
       "      <td>1</td>\n",
       "      <td>11</td>\n",
       "      <td>4</td>\n",
       "      <td>4</td>\n",
       "      <td>6557.467940</td>\n",
       "      <td>9</td>\n",
       "    </tr>\n",
       "    <tr>\n",
       "      <th>4</th>\n",
       "      <td>1</td>\n",
       "      <td>11</td>\n",
       "      <td>5</td>\n",
       "      <td>3</td>\n",
       "      <td>20527.116504</td>\n",
       "      <td>9</td>\n",
       "    </tr>\n",
       "  </tbody>\n",
       "</table>\n",
       "</div>"
      ],
      "text/plain": [
       "   sentID  nw  wordID  length          freq  code\n",
       "0       1  11       1       3    112.096683     9\n",
       "1       1  11       2       3    532.671797     9\n",
       "2       1  11       3      10      3.237331     9\n",
       "3       1  11       4       4   6557.467940     9\n",
       "4       1  11       5       3  20527.116504     9"
      ]
     },
     "execution_count": 4,
     "metadata": {},
     "output_type": "execute_result"
    }
   ],
   "source": [
    "import pandas as pd\n",
    "\n",
    "corpus=pd.read_csv(\"Rcorpus_PB2.dat\", delimiter=\"\\t\", \n",
    "                   #usecols=range(5)\n",
    "                   )\n",
    "corpus.head()"
   ]
  },
  {
   "cell_type": "markdown",
   "metadata": {},
   "source": [
    "# Define Toyswift"
   ]
  },
  {
   "cell_type": "code",
   "execution_count": 5,
   "metadata": {},
   "outputs": [],
   "source": [
    "import numpy as np\n",
    "import pandas as pd\n",
    "\n",
    "\n",
    "def toyswift_legacy(nu, r, mt=200, eta=-3, NW=10):\n",
    "    # Processing span normalization constant\n",
    "    sigma = 1 / (1 + 2 * nu + nu**2)\n",
    "    \n",
    "    # Activation\n",
    "    a = np.zeros(NW)  # Word activation\n",
    "    \n",
    "    # Fixation duration Gamma distribution parameters\n",
    "    shape = 9\n",
    "    rate = shape / mt  # Gamma density rate\n",
    "    \n",
    "    # Initialize variables\n",
    "    time = 0  # Time\n",
    "    k = 0  # Fixated word (0-based indexing)\n",
    "    act = []  # Store word saliencies\n",
    "    traj = []  # Store trajectory\n",
    "    \n",
    "    while True:\n",
    "        # 1. Generate fixation duration\n",
    "        tfix = np.random.gamma(shape, 1/rate)\n",
    "        traj.append([time, k + 1, tfix])  # Store trajectory (1-based indexing for Fixation)\n",
    "        \n",
    "        # 2. Update processing rates\n",
    "        lambda_ = np.zeros(NW)\n",
    "        if k - 1 >= 0:\n",
    "            lambda_[k - 1] = nu * sigma\n",
    "        lambda_[k] = sigma\n",
    "        if k + 1 < NW:\n",
    "            lambda_[k + 1] = nu * sigma\n",
    "        if k + 2 < NW:\n",
    "            lambda_[k + 2] = nu**2 * sigma\n",
    "        \n",
    "        # 3. Evolve activations\n",
    "        for _ in range(int(tfix)):\n",
    "            time += 1\n",
    "            a += r * lambda_ / 1000\n",
    "            a[a > 1] = 1\n",
    "            # Compute word saliencies\n",
    "            s = np.sin(np.pi * a)\n",
    "            s[a >= 1] = 0\n",
    "            act.append([time] + s.tolist())\n",
    "        \n",
    "        # 4. Check for simulation end condition\n",
    "        if np.all(a >= 1) or k == NW - 1:\n",
    "            break\n",
    "        \n",
    "        # 5. Compute target selection probabilities\n",
    "        if np.sum(s) == 0:\n",
    "            idx = np.where(a == 0)[0]\n",
    "            if len(idx) > 0:\n",
    "                s[idx[0]] = 1\n",
    "            else:\n",
    "                s[NW - 1] = 1\n",
    "        s += 10**eta\n",
    "        p = s / np.sum(s)\n",
    "        \n",
    "        # 6. Select saccade target\n",
    "        k = np.random.choice(NW, p=p)\n",
    "    \n",
    "    # Convert results to DataFrame\n",
    "    #trajectory_df = pd.DataFrame(traj, columns=[\"Time\", \"Fixation\", \"Duration\"])\n",
    "    #activations_df = pd.DataFrame(act, columns=[\"Time\"] + [i+1 for i in range(NW)])\n",
    "    \n",
    "    #return {\"trajectory\": trajectory_df, \"activations\": activations_df}\n",
    "    return np.array(traj)\n"
   ]
  },
  {
   "cell_type": "code",
   "execution_count": 2,
   "metadata": {},
   "outputs": [],
   "source": [
    "def toyswift(nu, r, mt=200, eta=-3, NW=10, max_saccades=20, skip_ms=10):\n",
    "    # Processing span normalization constant\n",
    "    sigma = 1 / (1 + 2 * nu + nu**2)\n",
    "    \n",
    "    # Activation\n",
    "    a = np.zeros(NW)  # Word activation\n",
    "    \n",
    "    # Fixation duration Gamma distribution parameters\n",
    "    shape = 9\n",
    "    rate = shape / mt  # Gamma density rate\n",
    "    \n",
    "    # Initialize variables\n",
    "    time = 0  # Time\n",
    "    k = 0  # Fixated word (0-based indexing)\n",
    "    act = []  # Store word saliencies\n",
    "    traj = np.zeros((max_saccades,4))  # Store trajectory\n",
    "    # indexing for storing trajectory values\n",
    "    i = 0\n",
    "    while i<max_saccades:\n",
    "        # 1. Generate fixation duration\n",
    "        tfix = np.random.gamma(shape, 1/rate)\n",
    "        traj[i,:] = [time, k + 1, tfix, 1]  # Store trajectory (1-based indexing for Fixation)\n",
    "        \n",
    "        # 2. Update processing rates\n",
    "        lambda_ = np.zeros(NW)\n",
    "        if k - 1 >= 0:\n",
    "            lambda_[k - 1] = nu * sigma\n",
    "        lambda_[k] = sigma\n",
    "        if k + 1 < NW:\n",
    "            lambda_[k + 1] = nu * sigma\n",
    "        if k + 2 < NW:\n",
    "            lambda_[k + 2] = nu**2 * sigma\n",
    "        \n",
    "        # 3. Evolve activations\n",
    "        for _ in range(0, int(tfix), skip_ms):\n",
    "            time += skip_ms\n",
    "            a += r * lambda_ * skip_ms / 1000\n",
    "            a[a > 1] = 1\n",
    "            # Compute word saliencies\n",
    "            s = np.sin(np.pi * a)\n",
    "            s[a >= 1] = 0\n",
    "            act.append([time] + s.tolist())\n",
    "        \n",
    "        # 4. Check for simulation end condition\n",
    "        if np.all(a >= 1) or k == NW - 1:\n",
    "            break\n",
    "        \n",
    "        # 5. Compute target selection probabilities\n",
    "        if np.sum(s) == 0:\n",
    "            idx = np.where(a == 0)[0]\n",
    "            if len(idx) > 0:\n",
    "                s[idx[0]] = 1\n",
    "            else:\n",
    "                s[NW - 1] = 1\n",
    "        s += 10**eta\n",
    "        p = s / np.sum(s)\n",
    "        \n",
    "        # 6. Select saccade target\n",
    "        k = np.random.choice(NW, p=p)\n",
    "        i += 1\n",
    "    return traj"
   ]
  },
  {
   "cell_type": "code",
   "execution_count": 4,
   "metadata": {},
   "outputs": [
    {
     "data": {
      "text/plain": [
       "(20, 4)"
      ]
     },
     "execution_count": 4,
     "metadata": {},
     "output_type": "execute_result"
    }
   ],
   "source": [
    "np.array(toyswift(nu = 0.1, r = 10,NW = 10)).shape"
   ]
  },
  {
   "cell_type": "markdown",
   "metadata": {},
   "source": [
    "## Plots"
   ]
  },
  {
   "cell_type": "code",
   "execution_count": 8,
   "metadata": {},
   "outputs": [],
   "source": [
    "sim = toyswift(nu=0.3, r=10, mt=200, eta=-3, NW=10)\n",
    "nu=0.3; r=10; mt=200 ; eta=-3; NW=10"
   ]
  },
  {
   "cell_type": "code",
   "execution_count": 10,
   "metadata": {},
   "outputs": [
    {
     "ename": "IndexError",
     "evalue": "only integers, slices (`:`), ellipsis (`...`), numpy.newaxis (`None`) and integer or boolean arrays are valid indices",
     "output_type": "error",
     "traceback": [
      "\u001b[1;31m---------------------------------------------------------------------------\u001b[0m",
      "\u001b[1;31mIndexError\u001b[0m                                Traceback (most recent call last)",
      "Cell \u001b[1;32mIn[10], line 2\u001b[0m\n\u001b[0;32m      1\u001b[0m \u001b[38;5;66;03m# Dynamically select all columns that start with \"Activation\"\u001b[39;00m\n\u001b[1;32m----> 2\u001b[0m df_test \u001b[38;5;241m=\u001b[39m pd\u001b[38;5;241m.\u001b[39mDataFrame(sim[\u001b[38;5;124m\"\u001b[39m\u001b[38;5;124mactivations\u001b[39m\u001b[38;5;124m\"\u001b[39m])\n\u001b[0;32m      3\u001b[0m activation_columns \u001b[38;5;241m=\u001b[39m df_test\u001b[38;5;241m.\u001b[39mcolumns[\u001b[38;5;241m1\u001b[39m:]\n\u001b[0;32m      5\u001b[0m \u001b[38;5;66;03m# Reshape the DataFrame to long format\u001b[39;00m\n",
      "\u001b[1;31mIndexError\u001b[0m: only integers, slices (`:`), ellipsis (`...`), numpy.newaxis (`None`) and integer or boolean arrays are valid indices"
     ]
    }
   ],
   "source": [
    "\n",
    "# Dynamically select all columns that start with \"Activation\"\n",
    "df_test = pd.DataFrame(sim[\"activations\"])\n",
    "activation_columns = df_test.columns[1:]\n",
    "\n",
    "# Reshape the DataFrame to long format\n",
    "df_long = df_test.melt(id_vars=\"Time\", value_vars=activation_columns, \n",
    "                       var_name=\"Word\", value_name=\"Value\")\n",
    "\n",
    "fixpos_df = pd.concat([\n",
    "    pd.DataFrame(sim[\"trajectory\"]),\n",
    "    pd.DataFrame({\n",
    "        \"Time\": [sim[\"trajectory\"][\"Time\"].iloc[-1] + sim[\"trajectory\"][\"Duration\"].iloc[-1]],\n",
    "        \"Fixation\": [sim[\"trajectory\"][\"Fixation\"].iloc[-1]],\n",
    "        \"Duration\": [np.nan]\n",
    "    })\n",
    "])\n",
    "\n",
    "# Plot trajectory\n",
    "plt.figure(figsize=(10, 6))\n",
    "for word in range(1, NW + 1):\n",
    "    word_data = df_long[df_long[\"Word\"] == word]\n",
    "    plt.fill_between(\n",
    "        word_data[\"Time\"],\n",
    "        word,\n",
    "        word + 0.9 * word_data[\"Value\"],\n",
    "        color=sns.color_palette(\"husl\", NW)[word - 1],\n",
    "        alpha=0.2,\n",
    "        label=f\"Word {word}\"\n",
    "    )\n",
    "\n",
    "plt.step(\n",
    "    fixpos_df[\"Time\"],\n",
    "    fixpos_df[\"Fixation\"],\n",
    "    where=\"post\",\n",
    "    color=\"black\",\n",
    "    linewidth=1,\n",
    "    label=\"Fixation\"\n",
    ")\n",
    "\n",
    "\n",
    "#plt.gca().invert_yaxis()\n",
    "plt.yticks(range(1, NW + 1), labels=[f\"Word {i}\" for i in range(1, NW + 1)])\n",
    "plt.xlabel(\"Time\")\n",
    "plt.ylabel(\"Word | Activation>>\")\n",
    "plt.title(\"Trajectory Plot\")\n",
    "plt.show()"
   ]
  },
  {
   "cell_type": "markdown",
   "metadata": {},
   "source": [
    "# Build model"
   ]
  },
  {
   "cell_type": "markdown",
   "metadata": {},
   "source": [
    "## Trial"
   ]
  },
  {
   "cell_type": "code",
   "execution_count": 12,
   "metadata": {},
   "outputs": [
    {
     "data": {
      "text/plain": [
       "array([[0.00000000e+00, 1.00000000e+00, 1.69066148e+02, 1.00000000e+00],\n",
       "       [1.70000000e+02, 2.00000000e+00, 8.09233097e+01, 1.00000000e+00],\n",
       "       [2.50000000e+02, 3.00000000e+00, 3.79719314e+02, 1.00000000e+00],\n",
       "       [6.30000000e+02, 5.00000000e+00, 1.76954854e+02, 1.00000000e+00],\n",
       "       [8.10000000e+02, 7.00000000e+00, 1.64404441e+02, 1.00000000e+00],\n",
       "       [9.80000000e+02, 6.00000000e+00, 1.81154431e+02, 1.00000000e+00],\n",
       "       [1.17000000e+03, 8.00000000e+00, 2.13921947e+02, 1.00000000e+00],\n",
       "       [1.39000000e+03, 9.00000000e+00, 2.06600303e+02, 1.00000000e+00],\n",
       "       [1.60000000e+03, 1.00000000e+01, 1.38948248e+02, 1.00000000e+00],\n",
       "       [0.00000000e+00, 0.00000000e+00, 0.00000000e+00, 0.00000000e+00],\n",
       "       [0.00000000e+00, 0.00000000e+00, 0.00000000e+00, 0.00000000e+00],\n",
       "       [0.00000000e+00, 0.00000000e+00, 0.00000000e+00, 0.00000000e+00],\n",
       "       [0.00000000e+00, 0.00000000e+00, 0.00000000e+00, 0.00000000e+00],\n",
       "       [0.00000000e+00, 0.00000000e+00, 0.00000000e+00, 0.00000000e+00],\n",
       "       [0.00000000e+00, 0.00000000e+00, 0.00000000e+00, 0.00000000e+00],\n",
       "       [0.00000000e+00, 0.00000000e+00, 0.00000000e+00, 0.00000000e+00],\n",
       "       [0.00000000e+00, 0.00000000e+00, 0.00000000e+00, 0.00000000e+00],\n",
       "       [0.00000000e+00, 0.00000000e+00, 0.00000000e+00, 0.00000000e+00],\n",
       "       [0.00000000e+00, 0.00000000e+00, 0.00000000e+00, 0.00000000e+00],\n",
       "       [0.00000000e+00, 0.00000000e+00, 0.00000000e+00, 0.00000000e+00]])"
      ]
     },
     "execution_count": 12,
     "metadata": {},
     "output_type": "execute_result"
    }
   ],
   "source": [
    "toyswift(nu, r)"
   ]
  },
  {
   "cell_type": "code",
   "execution_count": 5,
   "metadata": {},
   "outputs": [],
   "source": [
    "def prior():\n",
    "    # decrease in processing span\n",
    "    nu=np.random.gamma(shape=8, scale=0.03)\n",
    "    # individual processing rate\n",
    "    r=np.random.gamma(shape=18, scale=0.5)\n",
    "    return dict(nu=nu, r=r)\n",
    "\n",
    "# generate data for n trials\n",
    "def likelihood(nu, r, n=10, max_saccades=20):\n",
    "    trials = np.zeros((n, max_saccades, 4))\n",
    "    (n,20,4)\n",
    "    for i in range(n):\n",
    "        trials[i,:,:] = toyswift(nu, r)\n",
    "    # return data split by outcome variable (\"time of saccade\", \"gaze fixation\", \"gaze duration\", \"real entry\")\n",
    "    return dict(\n",
    "        time=np.expand_dims(trials[:,:,0], axis=-1), \n",
    "        fixation=np.expand_dims(trials[:,:,1], axis=-1), \n",
    "        duration=np.expand_dims(trials[:,:,2], axis=-1), \n",
    "        real=np.expand_dims(trials[:,:,3], axis=-1)\n",
    "    )\n",
    "\n",
    "def context(n=None):\n",
    "    if n is None:\n",
    "        n = 20 #np.random.randint(200, 351)\n",
    "    return dict(n=n)\n",
    "\n",
    "# sufficient statistics: mean, sd, n\n",
    "def summary(rt):\n",
    "    return dict(\n",
    "        mean = np.mean(rt),\n",
    "        sd = np.std(rt)\n",
    "    )\n",
    "\n",
    "simulator = bf.make_simulator([prior, likelihood]) # exclude context for now"
   ]
  },
  {
   "cell_type": "code",
   "execution_count": 6,
   "metadata": {},
   "outputs": [
    {
     "data": {
      "text/plain": [
       "(10, 20, 1)"
      ]
     },
     "execution_count": 6,
     "metadata": {},
     "output_type": "execute_result"
    }
   ],
   "source": [
    "likelihood(2,10)[\"time\"].shape"
   ]
  },
  {
   "cell_type": "code",
   "execution_count": 37,
   "metadata": {},
   "outputs": [
    {
     "data": {
      "text/plain": [
       "(1, 250, 20)"
      ]
     },
     "execution_count": 37,
     "metadata": {},
     "output_type": "execute_result"
    }
   ],
   "source": [
    "df = simulator.sample(1)\n",
    "df[\"time\"].shape"
   ]
  },
  {
   "cell_type": "code",
   "execution_count": 27,
   "metadata": {},
   "outputs": [
    {
     "data": {
      "text/plain": [
       "{'nu': array([[0.3376696]]),\n",
       " 'r': array([[8.15640481]]),\n",
       " 'time': array([[[  0., 180., 340., ...,   0.,   0.,   0.],\n",
       "         [  0., 170., 280., ...,   0.,   0.,   0.],\n",
       "         [  0., 250., 510., ...,   0.,   0.,   0.],\n",
       "         ...,\n",
       "         [  0., 140., 370., ...,   0.,   0.,   0.],\n",
       "         [  0., 340., 570., ...,   0.,   0.,   0.],\n",
       "         [  0., 120., 350., ...,   0.,   0.,   0.]]]),\n",
       " 'fixation': array([[[1., 3., 3., ..., 0., 0., 0.],\n",
       "         [1., 1., 2., ..., 0., 0., 0.],\n",
       "         [1., 2., 3., ..., 0., 0., 0.],\n",
       "         ...,\n",
       "         [1., 1., 2., ..., 0., 0., 0.],\n",
       "         [1., 2., 4., ..., 0., 0., 0.],\n",
       "         [1., 1., 2., ..., 0., 0., 0.]]]),\n",
       " 'duration': array([[[172.79594006, 158.32011209, 212.04293934, ...,   0.        ,\n",
       "            0.        ,   0.        ],\n",
       "         [169.97665904, 109.2143949 , 173.41639364, ...,   0.        ,\n",
       "            0.        ,   0.        ],\n",
       "         [244.92968608, 253.87588457, 105.92498531, ...,   0.        ,\n",
       "            0.        ,   0.        ],\n",
       "         ...,\n",
       "         [132.33042055, 222.1296463 , 143.72729882, ...,   0.        ,\n",
       "            0.        ,   0.        ],\n",
       "         [333.52974834, 224.736463  , 215.71790047, ...,   0.        ,\n",
       "            0.        ,   0.        ],\n",
       "         [117.7228903 , 226.29586031, 114.67306689, ...,   0.        ,\n",
       "            0.        ,   0.        ]]]),\n",
       " 'real': array([[[1., 1., 1., ..., 0., 0., 0.],\n",
       "         [1., 1., 1., ..., 0., 0., 0.],\n",
       "         [1., 1., 1., ..., 0., 0., 0.],\n",
       "         ...,\n",
       "         [1., 1., 1., ..., 0., 0., 0.],\n",
       "         [1., 1., 1., ..., 0., 0., 0.],\n",
       "         [1., 1., 1., ..., 0., 0., 0.]]])}"
      ]
     },
     "execution_count": 27,
     "metadata": {},
     "output_type": "execute_result"
    }
   ],
   "source": [
    "df"
   ]
  },
  {
   "cell_type": "code",
   "execution_count": 28,
   "metadata": {},
   "outputs": [
    {
     "name": "stderr",
     "output_type": "stream",
     "text": [
      "c:\\Users\\phili\\anaconda3\\envs\\bayesflow-seminar\\Lib\\site-packages\\seaborn\\axisgrid.py:1537: FutureWarning: When grouping with a length-1 list-like, you will need to pass a length-1 tuple to get_group in a future version of pandas. Pass `(name,)` instead of `name` to silence this warning.\n",
      "  data_k = hue_grouped.get_group(label_k)\n",
      "c:\\Users\\phili\\anaconda3\\envs\\bayesflow-seminar\\Lib\\site-packages\\seaborn\\axisgrid.py:1537: FutureWarning: When grouping with a length-1 list-like, you will need to pass a length-1 tuple to get_group in a future version of pandas. Pass `(name,)` instead of `name` to silence this warning.\n",
      "  data_k = hue_grouped.get_group(label_k)\n",
      "c:\\Users\\phili\\anaconda3\\envs\\bayesflow-seminar\\Lib\\site-packages\\seaborn\\axisgrid.py:1615: UserWarning: KDE cannot be estimated (0 variance or perfect covariance). Pass `warn_singular=False` to disable this warning.\n",
      "  func(x=x, y=y, **kwargs)\n"
     ]
    },
    {
     "data": {
      "image/png": "[encoded data removed]",
      "text/plain": [
       "<Figure size 500x500 with 8 Axes>"
      ]
     },
     "metadata": {},
     "output_type": "display_data"
    }
   ],
   "source": [
    "f=bf.diagnostics.pairs_samples(\n",
    "    df, \n",
    "    variable_keys=[\"nu\", \"r\"],\n",
    "    variable_names=[r\"$\\nu$\", r\"r\"])"
   ]
  },
  {
   "cell_type": "markdown",
   "metadata": {},
   "source": [
    "# Summary Network"
   ]
  },
  {
   "cell_type": "code",
   "execution_count": 7,
   "metadata": {},
   "outputs": [],
   "source": [
    "adapter = (bf.Adapter()\n",
    "    #.broadcast(\"n\", to=\"y\")\n",
    "    #.as_set(\"y\")\n",
    "    # .constrain(\"nu\", lower=0)\n",
    "    # .constrain(\"r\", lower=0.5, upper=20)\n",
    "    # #.rename(\"n\", \"inference_conditions\")\n",
    "    #.rename(\"y\", \"summary_variables\")\n",
    "    .concatenate([\"nu\", \"r\"], into=\"inference_variables\")\n",
    "    # fixation.shape (batch_size, sentences, max_saccades, 1)\n",
    "    .concatenate([\"time\", \"fixation\", \"duration\", 'real'], into=\"summary_variables\")\n",
    "    # summary_variables.shape (batch_size, sentences, max_saccades, 4)\n",
    "    # .concatenate(['trials'], into='inference_conditions')\n",
    "    )"
   ]
  },
  {
   "cell_type": "code",
   "execution_count": 25,
   "metadata": {},
   "outputs": [],
   "source": [
    "class SequentialDeepSet(bf.networks.SummaryNetwork):\n",
    "    def __init__(self, **kwargs):\n",
    "        super().__init__(**kwargs)\n",
    "\n",
    "        self.inner = keras.layers.TimeDistributed(\n",
    "            bf.networks.TimeSeriesNetwork(bidirectional=False, recurrent_dim=64, summary_dim=8) # make layers smaller in case of poor training speed\n",
    "        )\n",
    "        self.outer = bf.networks.DeepSet()\n",
    "    \n",
    "    def call(self, x, training=False):\n",
    "        x = self.inner(x, training=training)\n",
    "        x = self.outer(x, training=training)\n",
    "        return x\n",
    "    \n",
    "summary_network = SequentialDeepSet()"
   ]
  },
  {
   "cell_type": "code",
   "execution_count": 42,
   "metadata": {},
   "outputs": [
    {
     "data": {
      "text/plain": [
       "(256, 20, 40, 4)"
      ]
     },
     "execution_count": 42,
     "metadata": {},
     "output_type": "execute_result"
    }
   ],
   "source": [
    "np.random.normal(size=(256, 20, 40, 4)).shape"
   ]
  },
  {
   "cell_type": "code",
   "execution_count": 43,
   "metadata": {},
   "outputs": [
    {
     "data": {
      "text/plain": [
       "<tf.Tensor: shape=(256, 16), dtype=float32, numpy=\n",
       "array([[ 0.45825186, -0.5381486 ,  1.50522   , ..., -0.25039962,\n",
       "        -0.22338898,  0.49653867],\n",
       "       [ 0.0608073 , -0.43514884,  1.1493652 , ..., -0.2439879 ,\n",
       "        -0.01124388,  0.20915729],\n",
       "       [ 0.28587732, -0.71006227,  1.0297581 , ..., -0.20969471,\n",
       "         0.17489305,  0.17371222],\n",
       "       ...,\n",
       "       [ 0.46956736, -0.5349364 ,  1.0511316 , ..., -0.38449994,\n",
       "        -0.21763188,  0.2649389 ],\n",
       "       [ 0.32520333, -0.39511964,  1.155948  , ..., -0.27984047,\n",
       "        -0.09220759,  0.42736164],\n",
       "       [ 0.10394444, -0.5463209 ,  1.2111788 , ..., -0.17124262,\n",
       "         0.09598465,  0.30403346]], dtype=float32)>"
      ]
     },
     "execution_count": 43,
     "metadata": {},
     "output_type": "execute_result"
    }
   ],
   "source": [
    "summary_network(np.random.normal(size=(256, 20, 40, 4)))"
   ]
  },
  {
   "cell_type": "code",
   "execution_count": 26,
   "metadata": {},
   "outputs": [],
   "source": [
    "workflow = bf.BasicWorkflow(\n",
    "    simulator = simulator,\n",
    "    adapter = adapter,\n",
    "    summary_network=summary_network,\n",
    "    inference_network = bf.networks.CouplingFlow(permutation=\"swap\", subnet_kwargs=dict(dropout=False)),\n",
    "    inference_variables = [\"nu\", \"r\"],\n",
    ")"
   ]
  },
  {
   "cell_type": "code",
   "execution_count": 27,
   "metadata": {},
   "outputs": [],
   "source": [
    "train_data = simulator.sample(50)\n",
    "validation_data = simulator.sample(2)"
   ]
  },
  {
   "cell_type": "code",
   "execution_count": 28,
   "metadata": {},
   "outputs": [
    {
     "name": "stderr",
     "output_type": "stream",
     "text": [
      "INFO:bayesflow:Fitting on dataset instance of OfflineDataset.\n",
      "INFO:bayesflow:Building on a test batch.\n"
     ]
    },
    {
     "name": "stdout",
     "output_type": "stream",
     "text": [
      "Epoch 1/20\n",
      "\u001b[1m2/2\u001b[0m \u001b[32m━━━━━━━━━━━━━━━━━━━━\u001b[0m\u001b[37m\u001b[0m \u001b[1m130s\u001b[0m 12s/step - loss: 40.0665 - loss/inference_loss: 40.0665 - val_loss: 27.7044 - val_loss/inference_loss: 27.7044\n",
      "Epoch 2/20\n",
      "\u001b[1m2/2\u001b[0m \u001b[32m━━━━━━━━━━━━━━━━━━━━\u001b[0m\u001b[37m\u001b[0m \u001b[1m0s\u001b[0m 201ms/step - loss: 26.5706 - loss/inference_loss: 26.5706 - val_loss: 14.2175 - val_loss/inference_loss: 14.2175\n",
      "Epoch 3/20\n",
      "\u001b[1m2/2\u001b[0m \u001b[32m━━━━━━━━━━━━━━━━━━━━\u001b[0m\u001b[37m\u001b[0m \u001b[1m0s\u001b[0m 222ms/step - loss: 12.1456 - loss/inference_loss: 12.1456 - val_loss: 4.6729 - val_loss/inference_loss: 4.6729\n",
      "Epoch 4/20\n",
      "\u001b[1m2/2\u001b[0m \u001b[32m━━━━━━━━━━━━━━━━━━━━\u001b[0m\u001b[37m\u001b[0m \u001b[1m0s\u001b[0m 207ms/step - loss: 4.0286 - loss/inference_loss: 4.0286 - val_loss: 2.3272 - val_loss/inference_loss: 2.3272\n",
      "Epoch 5/20\n",
      "\u001b[1m2/2\u001b[0m \u001b[32m━━━━━━━━━━━━━━━━━━━━\u001b[0m\u001b[37m\u001b[0m \u001b[1m0s\u001b[0m 205ms/step - loss: 2.4619 - loss/inference_loss: 2.4619 - val_loss: 2.5851 - val_loss/inference_loss: 2.5851\n",
      "Epoch 6/20\n",
      "\u001b[1m2/2\u001b[0m \u001b[32m━━━━━━━━━━━━━━━━━━━━\u001b[0m\u001b[37m\u001b[0m \u001b[1m0s\u001b[0m 212ms/step - loss: 2.4472 - loss/inference_loss: 2.4472 - val_loss: 2.0364 - val_loss/inference_loss: 2.0364\n",
      "Epoch 7/20\n",
      "\u001b[1m2/2\u001b[0m \u001b[32m━━━━━━━━━━━━━━━━━━━━\u001b[0m\u001b[37m\u001b[0m \u001b[1m0s\u001b[0m 201ms/step - loss: 2.0289 - loss/inference_loss: 2.0289 - val_loss: 1.6192 - val_loss/inference_loss: 1.6192\n",
      "Epoch 8/20\n",
      "\u001b[1m2/2\u001b[0m \u001b[32m━━━━━━━━━━━━━━━━━━━━\u001b[0m\u001b[37m\u001b[0m \u001b[1m0s\u001b[0m 210ms/step - loss: 1.8324 - loss/inference_loss: 1.8324 - val_loss: 1.4770 - val_loss/inference_loss: 1.4770\n",
      "Epoch 9/20\n",
      "\u001b[1m2/2\u001b[0m \u001b[32m━━━━━━━━━━━━━━━━━━━━\u001b[0m\u001b[37m\u001b[0m \u001b[1m0s\u001b[0m 203ms/step - loss: 1.6647 - loss/inference_loss: 1.6647 - val_loss: 1.2340 - val_loss/inference_loss: 1.2340\n",
      "Epoch 10/20\n",
      "\u001b[1m2/2\u001b[0m \u001b[32m━━━━━━━━━━━━━━━━━━━━\u001b[0m\u001b[37m\u001b[0m \u001b[1m0s\u001b[0m 217ms/step - loss: 1.6525 - loss/inference_loss: 1.6525 - val_loss: 1.0279 - val_loss/inference_loss: 1.0279\n",
      "Epoch 11/20\n",
      "\u001b[1m2/2\u001b[0m \u001b[32m━━━━━━━━━━━━━━━━━━━━\u001b[0m\u001b[37m\u001b[0m \u001b[1m0s\u001b[0m 217ms/step - loss: 1.7118 - loss/inference_loss: 1.7118 - val_loss: 0.9584 - val_loss/inference_loss: 0.9584\n",
      "Epoch 12/20\n",
      "\u001b[1m2/2\u001b[0m \u001b[32m━━━━━━━━━━━━━━━━━━━━\u001b[0m\u001b[37m\u001b[0m \u001b[1m0s\u001b[0m 222ms/step - loss: 1.4529 - loss/inference_loss: 1.4529 - val_loss: 0.9556 - val_loss/inference_loss: 0.9556\n",
      "Epoch 13/20\n",
      "\u001b[1m2/2\u001b[0m \u001b[32m━━━━━━━━━━━━━━━━━━━━\u001b[0m\u001b[37m\u001b[0m \u001b[1m0s\u001b[0m 205ms/step - loss: 1.5934 - loss/inference_loss: 1.5934 - val_loss: 0.9051 - val_loss/inference_loss: 0.9051\n",
      "Epoch 14/20\n",
      "\u001b[1m2/2\u001b[0m \u001b[32m━━━━━━━━━━━━━━━━━━━━\u001b[0m\u001b[37m\u001b[0m \u001b[1m0s\u001b[0m 214ms/step - loss: 1.4467 - loss/inference_loss: 1.4467 - val_loss: 0.8806 - val_loss/inference_loss: 0.8806\n",
      "Epoch 15/20\n",
      "\u001b[1m2/2\u001b[0m \u001b[32m━━━━━━━━━━━━━━━━━━━━\u001b[0m\u001b[37m\u001b[0m \u001b[1m0s\u001b[0m 223ms/step - loss: 1.1803 - loss/inference_loss: 1.1803 - val_loss: 0.8729 - val_loss/inference_loss: 0.8729\n",
      "Epoch 16/20\n",
      "\u001b[1m2/2\u001b[0m \u001b[32m━━━━━━━━━━━━━━━━━━━━\u001b[0m\u001b[37m\u001b[0m \u001b[1m0s\u001b[0m 228ms/step - loss: 1.1987 - loss/inference_loss: 1.1987 - val_loss: 0.8642 - val_loss/inference_loss: 0.8642\n",
      "Epoch 17/20\n",
      "\u001b[1m2/2\u001b[0m \u001b[32m━━━━━━━━━━━━━━━━━━━━\u001b[0m\u001b[37m\u001b[0m \u001b[1m0s\u001b[0m 209ms/step - loss: 1.2564 - loss/inference_loss: 1.2564 - val_loss: 0.8639 - val_loss/inference_loss: 0.8639\n",
      "Epoch 18/20\n",
      "\u001b[1m2/2\u001b[0m \u001b[32m━━━━━━━━━━━━━━━━━━━━\u001b[0m\u001b[37m\u001b[0m \u001b[1m0s\u001b[0m 207ms/step - loss: 1.0906 - loss/inference_loss: 1.0906 - val_loss: 0.8620 - val_loss/inference_loss: 0.8620\n",
      "Epoch 19/20\n",
      "\u001b[1m2/2\u001b[0m \u001b[32m━━━━━━━━━━━━━━━━━━━━\u001b[0m\u001b[37m\u001b[0m \u001b[1m0s\u001b[0m 208ms/step - loss: 1.1997 - loss/inference_loss: 1.1997 - val_loss: 0.8598 - val_loss/inference_loss: 0.8598\n",
      "Epoch 20/20\n",
      "\u001b[1m2/2\u001b[0m \u001b[32m━━━━━━━━━━━━━━━━━━━━\u001b[0m\u001b[37m\u001b[0m \u001b[1m0s\u001b[0m 211ms/step - loss: 1.1851 - loss/inference_loss: 1.1851 - val_loss: 0.8587 - val_loss/inference_loss: 0.8587\n"
     ]
    }
   ],
   "source": [
    "history=workflow.fit_offline(\n",
    "    data=train_data, \n",
    "    epochs=20, \n",
    "    batch_size=25, \n",
    "    validation_data=validation_data\n",
    ")"
   ]
  }
 ],
 "metadata": {
  "kernelspec": {
   "display_name": "bayesflow-seminar",
   "language": "python",
   "name": "python3"
  },
  "language_info": {
   "codemirror_mode": {
    "name": "ipython",
    "version": 3
   },
   "file_extension": ".py",
   "mimetype": "text/x-python",
   "name": "python",
   "nbconvert_exporter": "python",
   "pygments_lexer": "ipython3",
   "version": "3.11.11"
  }
 },
 "nbformat": 4,
 "nbformat_minor": 2
}
